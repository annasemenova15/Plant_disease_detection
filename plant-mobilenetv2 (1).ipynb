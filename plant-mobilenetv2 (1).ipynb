{
 "cells": [
  {
   "cell_type": "markdown",
   "id": "16be5843",
   "metadata": {
    "papermill": {
     "duration": 0.006346,
     "end_time": "2023-04-07T16:27:52.984387",
     "exception": false,
     "start_time": "2023-04-07T16:27:52.978041",
     "status": "completed"
    },
    "tags": []
   },
   "source": [
    "# Final project\n",
    "#### Plant disease detection --> multiclassification problem"
   ]
  },
  {
   "cell_type": "markdown",
   "id": "4e174a4a",
   "metadata": {
    "papermill": {
     "duration": 0.004956,
     "end_time": "2023-04-07T16:27:52.994691",
     "exception": false,
     "start_time": "2023-04-07T16:27:52.989735",
     "status": "completed"
    },
    "tags": []
   },
   "source": [
    "1. Install the packages"
   ]
  },
  {
   "cell_type": "code",
   "execution_count": 1,
   "id": "4df6e256",
   "metadata": {
    "execution": {
     "iopub.execute_input": "2023-04-07T16:27:53.007387Z",
     "iopub.status.busy": "2023-04-07T16:27:53.006566Z",
     "iopub.status.idle": "2023-04-07T16:28:02.966843Z",
     "shell.execute_reply": "2023-04-07T16:28:02.965475Z"
    },
    "papermill": {
     "duration": 9.969987,
     "end_time": "2023-04-07T16:28:02.969748",
     "exception": false,
     "start_time": "2023-04-07T16:27:52.999761",
     "status": "completed"
    },
    "tags": []
   },
   "outputs": [
    {
     "name": "stdout",
     "output_type": "stream",
     "text": [
      "Collecting split-folders\r\n",
      "  Downloading split_folders-0.5.1-py3-none-any.whl (8.4 kB)\r\n",
      "Installing collected packages: split-folders\r\n",
      "Successfully installed split-folders-0.5.1\r\n",
      "\u001b[33mWARNING: Running pip as the 'root' user can result in broken permissions and conflicting behaviour with the system package manager. It is recommended to use a virtual environment instead: https://pip.pypa.io/warnings/venv\u001b[0m\u001b[33m\r\n",
      "\u001b[0m"
     ]
    }
   ],
   "source": [
    "# Dowload the packages\n",
    "!pip install split-folders"
   ]
  },
  {
   "cell_type": "code",
   "execution_count": 2,
   "id": "884d5dca",
   "metadata": {
    "execution": {
     "iopub.execute_input": "2023-04-07T16:28:02.983474Z",
     "iopub.status.busy": "2023-04-07T16:28:02.982688Z",
     "iopub.status.idle": "2023-04-07T16:28:10.889282Z",
     "shell.execute_reply": "2023-04-07T16:28:10.888213Z"
    },
    "papermill": {
     "duration": 7.916162,
     "end_time": "2023-04-07T16:28:10.891835",
     "exception": false,
     "start_time": "2023-04-07T16:28:02.975673",
     "status": "completed"
    },
    "tags": []
   },
   "outputs": [],
   "source": [
    "# Dowload the packages\n",
    "import numpy as np\n",
    "import pandas as pd\n",
    "import os,os.path\n",
    "import splitfolders\n",
    "import shutil\n",
    "\n",
    "import seaborn as sns\n",
    "import matplotlib.pyplot as plt\n",
    "import matplotlib.image as mpimg\n",
    "import matplotlib\n",
    "\n",
    "import keras.backend as K\n",
    "import tensorflow as tf\n",
    "\n",
    "from tensorflow import keras\n",
    "from tensorflow.keras import layers, models\n",
    "from tensorflow.keras.preprocessing.image import ImageDataGenerator\n",
    "from tensorflow.keras.layers import Dense, Dropout, Flatten, BatchNormalization\n",
    "from tensorflow.keras.callbacks import Callback, EarlyStopping, ModelCheckpoint\n",
    "from tensorflow.keras.optimizers import Adam\n",
    "from tensorflow.keras.applications import MobileNetV2, MobileNet, VGG16\n",
    "from tensorflow.keras import Model\n",
    "from tensorflow.keras.layers.experimental import preprocessing\n",
    "from tensorflow.keras.preprocessing import image_dataset_from_directory\n",
    "\n",
    "matplotlib.style.use('ggplot')\n",
    "%matplotlib inline"
   ]
  },
  {
   "cell_type": "code",
   "execution_count": 3,
   "id": "e4239e67",
   "metadata": {
    "execution": {
     "iopub.execute_input": "2023-04-07T16:28:10.905582Z",
     "iopub.status.busy": "2023-04-07T16:28:10.904194Z",
     "iopub.status.idle": "2023-04-07T16:28:10.909903Z",
     "shell.execute_reply": "2023-04-07T16:28:10.908958Z"
    },
    "papermill": {
     "duration": 0.01432,
     "end_time": "2023-04-07T16:28:10.912028",
     "exception": false,
     "start_time": "2023-04-07T16:28:10.897708",
     "status": "completed"
    },
    "tags": []
   },
   "outputs": [],
   "source": [
    "# Set some default variables\n",
    "DATA_DIR = '/kaggle/input/plantvillage-dataset/color'\n",
    "BATCH_SIZE = 40\n",
    "EPOCHS = 6\n",
    "IMAGE_SHAPE = (224, 224)"
   ]
  },
  {
   "cell_type": "markdown",
   "id": "a98c2b89",
   "metadata": {
    "papermill": {
     "duration": 0.005198,
     "end_time": "2023-04-07T16:28:10.922542",
     "exception": false,
     "start_time": "2023-04-07T16:28:10.917344",
     "status": "completed"
    },
    "tags": []
   },
   "source": [
    "2. Upload and explore the data"
   ]
  },
  {
   "cell_type": "code",
   "execution_count": 4,
   "id": "ca8943a8",
   "metadata": {
    "execution": {
     "iopub.execute_input": "2023-04-07T16:28:10.934530Z",
     "iopub.status.busy": "2023-04-07T16:28:10.934229Z",
     "iopub.status.idle": "2023-04-07T16:28:23.824038Z",
     "shell.execute_reply": "2023-04-07T16:28:23.823003Z"
    },
    "papermill": {
     "duration": 12.89836,
     "end_time": "2023-04-07T16:28:23.826204",
     "exception": false,
     "start_time": "2023-04-07T16:28:10.927844",
     "status": "completed"
    },
    "tags": []
   },
   "outputs": [
    {
     "data": {
      "text/html": [
       "<div>\n",
       "<style scoped>\n",
       "    .dataframe tbody tr th:only-of-type {\n",
       "        vertical-align: middle;\n",
       "    }\n",
       "\n",
       "    .dataframe tbody tr th {\n",
       "        vertical-align: top;\n",
       "    }\n",
       "\n",
       "    .dataframe thead th {\n",
       "        text-align: right;\n",
       "    }\n",
       "</style>\n",
       "<table border=\"1\" class=\"dataframe\">\n",
       "  <thead>\n",
       "    <tr style=\"text-align: right;\">\n",
       "      <th></th>\n",
       "      <th>Plant</th>\n",
       "      <th>Disease</th>\n",
       "      <th>Directory</th>\n",
       "      <th>Files</th>\n",
       "    </tr>\n",
       "  </thead>\n",
       "  <tbody>\n",
       "    <tr>\n",
       "      <th>27</th>\n",
       "      <td>Apple</td>\n",
       "      <td>healthy</td>\n",
       "      <td>Apple___healthy</td>\n",
       "      <td>1645</td>\n",
       "    </tr>\n",
       "    <tr>\n",
       "      <th>20</th>\n",
       "      <td>Apple</td>\n",
       "      <td>Cedar_apple_rust</td>\n",
       "      <td>Apple___Cedar_apple_rust</td>\n",
       "      <td>275</td>\n",
       "    </tr>\n",
       "    <tr>\n",
       "      <th>16</th>\n",
       "      <td>Apple</td>\n",
       "      <td>Black_rot</td>\n",
       "      <td>Apple___Black_rot</td>\n",
       "      <td>621</td>\n",
       "    </tr>\n",
       "    <tr>\n",
       "      <th>13</th>\n",
       "      <td>Apple</td>\n",
       "      <td>Apple_scab</td>\n",
       "      <td>Apple___Apple_scab</td>\n",
       "      <td>630</td>\n",
       "    </tr>\n",
       "    <tr>\n",
       "      <th>17</th>\n",
       "      <td>Blueberry</td>\n",
       "      <td>healthy</td>\n",
       "      <td>Blueberry___healthy</td>\n",
       "      <td>1502</td>\n",
       "    </tr>\n",
       "    <tr>\n",
       "      <th>18</th>\n",
       "      <td>Cherry_(including_sour)</td>\n",
       "      <td>Powdery_mildew</td>\n",
       "      <td>Cherry_(including_sour)___Powdery_mildew</td>\n",
       "      <td>1052</td>\n",
       "    </tr>\n",
       "    <tr>\n",
       "      <th>30</th>\n",
       "      <td>Cherry_(including_sour)</td>\n",
       "      <td>healthy</td>\n",
       "      <td>Cherry_(including_sour)___healthy</td>\n",
       "      <td>854</td>\n",
       "    </tr>\n",
       "    <tr>\n",
       "      <th>31</th>\n",
       "      <td>Corn_(maize)</td>\n",
       "      <td>Common_rust_</td>\n",
       "      <td>Corn_(maize)___Common_rust_</td>\n",
       "      <td>1192</td>\n",
       "    </tr>\n",
       "    <tr>\n",
       "      <th>10</th>\n",
       "      <td>Corn_(maize)</td>\n",
       "      <td>Cercospora_leaf_spot Gray_leaf_spot</td>\n",
       "      <td>Corn_(maize)___Cercospora_leaf_spot Gray_leaf_...</td>\n",
       "      <td>513</td>\n",
       "    </tr>\n",
       "    <tr>\n",
       "      <th>37</th>\n",
       "      <td>Corn_(maize)</td>\n",
       "      <td>healthy</td>\n",
       "      <td>Corn_(maize)___healthy</td>\n",
       "      <td>1162</td>\n",
       "    </tr>\n",
       "    <tr>\n",
       "      <th>7</th>\n",
       "      <td>Corn_(maize)</td>\n",
       "      <td>Northern_Leaf_Blight</td>\n",
       "      <td>Corn_(maize)___Northern_Leaf_Blight</td>\n",
       "      <td>985</td>\n",
       "    </tr>\n",
       "    <tr>\n",
       "      <th>23</th>\n",
       "      <td>Grape</td>\n",
       "      <td>Leaf_blight_(Isariopsis_Leaf_Spot)</td>\n",
       "      <td>Grape___Leaf_blight_(Isariopsis_Leaf_Spot)</td>\n",
       "      <td>1076</td>\n",
       "    </tr>\n",
       "    <tr>\n",
       "      <th>28</th>\n",
       "      <td>Grape</td>\n",
       "      <td>Black_rot</td>\n",
       "      <td>Grape___Black_rot</td>\n",
       "      <td>1180</td>\n",
       "    </tr>\n",
       "    <tr>\n",
       "      <th>32</th>\n",
       "      <td>Grape</td>\n",
       "      <td>Esca_(Black_Measles)</td>\n",
       "      <td>Grape___Esca_(Black_Measles)</td>\n",
       "      <td>1383</td>\n",
       "    </tr>\n",
       "    <tr>\n",
       "      <th>2</th>\n",
       "      <td>Grape</td>\n",
       "      <td>healthy</td>\n",
       "      <td>Grape___healthy</td>\n",
       "      <td>423</td>\n",
       "    </tr>\n",
       "    <tr>\n",
       "      <th>3</th>\n",
       "      <td>Orange</td>\n",
       "      <td>Haunglongbing_(Citrus_greening)</td>\n",
       "      <td>Orange___Haunglongbing_(Citrus_greening)</td>\n",
       "      <td>5507</td>\n",
       "    </tr>\n",
       "    <tr>\n",
       "      <th>19</th>\n",
       "      <td>Peach</td>\n",
       "      <td>Bacterial_spot</td>\n",
       "      <td>Peach___Bacterial_spot</td>\n",
       "      <td>2297</td>\n",
       "    </tr>\n",
       "    <tr>\n",
       "      <th>12</th>\n",
       "      <td>Peach</td>\n",
       "      <td>healthy</td>\n",
       "      <td>Peach___healthy</td>\n",
       "      <td>360</td>\n",
       "    </tr>\n",
       "    <tr>\n",
       "      <th>36</th>\n",
       "      <td>Pepper,_bell</td>\n",
       "      <td>Bacterial_spot</td>\n",
       "      <td>Pepper,_bell___Bacterial_spot</td>\n",
       "      <td>997</td>\n",
       "    </tr>\n",
       "    <tr>\n",
       "      <th>22</th>\n",
       "      <td>Pepper,_bell</td>\n",
       "      <td>healthy</td>\n",
       "      <td>Pepper,_bell___healthy</td>\n",
       "      <td>1478</td>\n",
       "    </tr>\n",
       "    <tr>\n",
       "      <th>6</th>\n",
       "      <td>Potato</td>\n",
       "      <td>healthy</td>\n",
       "      <td>Potato___healthy</td>\n",
       "      <td>152</td>\n",
       "    </tr>\n",
       "    <tr>\n",
       "      <th>29</th>\n",
       "      <td>Potato</td>\n",
       "      <td>Early_blight</td>\n",
       "      <td>Potato___Early_blight</td>\n",
       "      <td>1000</td>\n",
       "    </tr>\n",
       "    <tr>\n",
       "      <th>24</th>\n",
       "      <td>Potato</td>\n",
       "      <td>Late_blight</td>\n",
       "      <td>Potato___Late_blight</td>\n",
       "      <td>1000</td>\n",
       "    </tr>\n",
       "    <tr>\n",
       "      <th>33</th>\n",
       "      <td>Raspberry</td>\n",
       "      <td>healthy</td>\n",
       "      <td>Raspberry___healthy</td>\n",
       "      <td>371</td>\n",
       "    </tr>\n",
       "    <tr>\n",
       "      <th>4</th>\n",
       "      <td>Soybean</td>\n",
       "      <td>healthy</td>\n",
       "      <td>Soybean___healthy</td>\n",
       "      <td>5090</td>\n",
       "    </tr>\n",
       "    <tr>\n",
       "      <th>5</th>\n",
       "      <td>Squash</td>\n",
       "      <td>Powdery_mildew</td>\n",
       "      <td>Squash___Powdery_mildew</td>\n",
       "      <td>1835</td>\n",
       "    </tr>\n",
       "    <tr>\n",
       "      <th>26</th>\n",
       "      <td>Strawberry</td>\n",
       "      <td>healthy</td>\n",
       "      <td>Strawberry___healthy</td>\n",
       "      <td>456</td>\n",
       "    </tr>\n",
       "    <tr>\n",
       "      <th>11</th>\n",
       "      <td>Strawberry</td>\n",
       "      <td>Leaf_scorch</td>\n",
       "      <td>Strawberry___Leaf_scorch</td>\n",
       "      <td>1109</td>\n",
       "    </tr>\n",
       "    <tr>\n",
       "      <th>34</th>\n",
       "      <td>Tomato</td>\n",
       "      <td>Leaf_Mold</td>\n",
       "      <td>Tomato___Leaf_Mold</td>\n",
       "      <td>952</td>\n",
       "    </tr>\n",
       "    <tr>\n",
       "      <th>1</th>\n",
       "      <td>Tomato</td>\n",
       "      <td>healthy</td>\n",
       "      <td>Tomato___healthy</td>\n",
       "      <td>1591</td>\n",
       "    </tr>\n",
       "    <tr>\n",
       "      <th>35</th>\n",
       "      <td>Tomato</td>\n",
       "      <td>Spider_mites Two-spotted_spider_mite</td>\n",
       "      <td>Tomato___Spider_mites Two-spotted_spider_mite</td>\n",
       "      <td>1676</td>\n",
       "    </tr>\n",
       "    <tr>\n",
       "      <th>8</th>\n",
       "      <td>Tomato</td>\n",
       "      <td>Early_blight</td>\n",
       "      <td>Tomato___Early_blight</td>\n",
       "      <td>1000</td>\n",
       "    </tr>\n",
       "    <tr>\n",
       "      <th>9</th>\n",
       "      <td>Tomato</td>\n",
       "      <td>Septoria_leaf_spot</td>\n",
       "      <td>Tomato___Septoria_leaf_spot</td>\n",
       "      <td>1771</td>\n",
       "    </tr>\n",
       "    <tr>\n",
       "      <th>21</th>\n",
       "      <td>Tomato</td>\n",
       "      <td>Target_Spot</td>\n",
       "      <td>Tomato___Target_Spot</td>\n",
       "      <td>1404</td>\n",
       "    </tr>\n",
       "    <tr>\n",
       "      <th>15</th>\n",
       "      <td>Tomato</td>\n",
       "      <td>Bacterial_spot</td>\n",
       "      <td>Tomato___Bacterial_spot</td>\n",
       "      <td>2127</td>\n",
       "    </tr>\n",
       "    <tr>\n",
       "      <th>14</th>\n",
       "      <td>Tomato</td>\n",
       "      <td>Tomato_Yellow_Leaf_Curl_Virus</td>\n",
       "      <td>Tomato___Tomato_Yellow_Leaf_Curl_Virus</td>\n",
       "      <td>5357</td>\n",
       "    </tr>\n",
       "    <tr>\n",
       "      <th>25</th>\n",
       "      <td>Tomato</td>\n",
       "      <td>Tomato_mosaic_virus</td>\n",
       "      <td>Tomato___Tomato_mosaic_virus</td>\n",
       "      <td>373</td>\n",
       "    </tr>\n",
       "    <tr>\n",
       "      <th>0</th>\n",
       "      <td>Tomato</td>\n",
       "      <td>Late_blight</td>\n",
       "      <td>Tomato___Late_blight</td>\n",
       "      <td>1909</td>\n",
       "    </tr>\n",
       "  </tbody>\n",
       "</table>\n",
       "</div>"
      ],
      "text/plain": [
       "                      Plant                               Disease  \\\n",
       "27                    Apple                               healthy   \n",
       "20                    Apple                      Cedar_apple_rust   \n",
       "16                    Apple                             Black_rot   \n",
       "13                    Apple                            Apple_scab   \n",
       "17                Blueberry                               healthy   \n",
       "18  Cherry_(including_sour)                        Powdery_mildew   \n",
       "30  Cherry_(including_sour)                               healthy   \n",
       "31             Corn_(maize)                          Common_rust_   \n",
       "10             Corn_(maize)   Cercospora_leaf_spot Gray_leaf_spot   \n",
       "37             Corn_(maize)                               healthy   \n",
       "7              Corn_(maize)                  Northern_Leaf_Blight   \n",
       "23                    Grape    Leaf_blight_(Isariopsis_Leaf_Spot)   \n",
       "28                    Grape                             Black_rot   \n",
       "32                    Grape                  Esca_(Black_Measles)   \n",
       "2                     Grape                               healthy   \n",
       "3                    Orange       Haunglongbing_(Citrus_greening)   \n",
       "19                    Peach                        Bacterial_spot   \n",
       "12                    Peach                               healthy   \n",
       "36             Pepper,_bell                        Bacterial_spot   \n",
       "22             Pepper,_bell                               healthy   \n",
       "6                    Potato                               healthy   \n",
       "29                   Potato                          Early_blight   \n",
       "24                   Potato                           Late_blight   \n",
       "33                Raspberry                               healthy   \n",
       "4                   Soybean                               healthy   \n",
       "5                    Squash                        Powdery_mildew   \n",
       "26               Strawberry                               healthy   \n",
       "11               Strawberry                           Leaf_scorch   \n",
       "34                   Tomato                             Leaf_Mold   \n",
       "1                    Tomato                               healthy   \n",
       "35                   Tomato  Spider_mites Two-spotted_spider_mite   \n",
       "8                    Tomato                          Early_blight   \n",
       "9                    Tomato                    Septoria_leaf_spot   \n",
       "21                   Tomato                           Target_Spot   \n",
       "15                   Tomato                        Bacterial_spot   \n",
       "14                   Tomato         Tomato_Yellow_Leaf_Curl_Virus   \n",
       "25                   Tomato                   Tomato_mosaic_virus   \n",
       "0                    Tomato                           Late_blight   \n",
       "\n",
       "                                            Directory  Files  \n",
       "27                                    Apple___healthy   1645  \n",
       "20                           Apple___Cedar_apple_rust    275  \n",
       "16                                  Apple___Black_rot    621  \n",
       "13                                 Apple___Apple_scab    630  \n",
       "17                                Blueberry___healthy   1502  \n",
       "18           Cherry_(including_sour)___Powdery_mildew   1052  \n",
       "30                  Cherry_(including_sour)___healthy    854  \n",
       "31                        Corn_(maize)___Common_rust_   1192  \n",
       "10  Corn_(maize)___Cercospora_leaf_spot Gray_leaf_...    513  \n",
       "37                             Corn_(maize)___healthy   1162  \n",
       "7                 Corn_(maize)___Northern_Leaf_Blight    985  \n",
       "23         Grape___Leaf_blight_(Isariopsis_Leaf_Spot)   1076  \n",
       "28                                  Grape___Black_rot   1180  \n",
       "32                       Grape___Esca_(Black_Measles)   1383  \n",
       "2                                     Grape___healthy    423  \n",
       "3            Orange___Haunglongbing_(Citrus_greening)   5507  \n",
       "19                             Peach___Bacterial_spot   2297  \n",
       "12                                    Peach___healthy    360  \n",
       "36                      Pepper,_bell___Bacterial_spot    997  \n",
       "22                             Pepper,_bell___healthy   1478  \n",
       "6                                    Potato___healthy    152  \n",
       "29                              Potato___Early_blight   1000  \n",
       "24                               Potato___Late_blight   1000  \n",
       "33                                Raspberry___healthy    371  \n",
       "4                                   Soybean___healthy   5090  \n",
       "5                             Squash___Powdery_mildew   1835  \n",
       "26                               Strawberry___healthy    456  \n",
       "11                           Strawberry___Leaf_scorch   1109  \n",
       "34                                 Tomato___Leaf_Mold    952  \n",
       "1                                    Tomato___healthy   1591  \n",
       "35      Tomato___Spider_mites Two-spotted_spider_mite   1676  \n",
       "8                               Tomato___Early_blight   1000  \n",
       "9                         Tomato___Septoria_leaf_spot   1771  \n",
       "21                               Tomato___Target_Spot   1404  \n",
       "15                            Tomato___Bacterial_spot   2127  \n",
       "14             Tomato___Tomato_Yellow_Leaf_Curl_Virus   5357  \n",
       "25                       Tomato___Tomato_mosaic_virus    373  \n",
       "0                                Tomato___Late_blight   1909  "
      ]
     },
     "execution_count": 4,
     "metadata": {},
     "output_type": "execute_result"
    }
   ],
   "source": [
    "# Check the content\n",
    "\n",
    "pairs = list()\n",
    "number = list()\n",
    "\n",
    "for directory in os.listdir(path=DATA_DIR):\n",
    "    columns = directory.split('___')\n",
    "    columns.append(directory)\n",
    "    \n",
    "    sub_path = DATA_DIR + '/' + directory\n",
    "    columns.append(len([name for name in os.listdir(path=sub_path)]))\n",
    "    \n",
    "    pairs.append(columns)\n",
    "    \n",
    "pairs = pd.DataFrame(pairs, columns=['Plant', 'Disease', 'Directory', 'Files'])\n",
    "pairs.sort_values(by='Plant')"
   ]
  },
  {
   "cell_type": "markdown",
   "id": "b5c1edc2",
   "metadata": {
    "papermill": {
     "duration": 0.005995,
     "end_time": "2023-04-07T16:28:23.838299",
     "exception": false,
     "start_time": "2023-04-07T16:28:23.832304",
     "status": "completed"
    },
    "tags": []
   },
   "source": [
    "There are some pairs when only a healthy plant is present. These are Blueberry (17), Orange (3), Raspberry (33), Soybean (4), Squash (5). These are not exactly interesting for us, because we want to detect diseases. Therefore, we will delete these observations in the future. "
   ]
  },
  {
   "cell_type": "code",
   "execution_count": 5,
   "id": "29b9add4",
   "metadata": {
    "execution": {
     "iopub.execute_input": "2023-04-07T16:28:23.851106Z",
     "iopub.status.busy": "2023-04-07T16:28:23.850780Z",
     "iopub.status.idle": "2023-04-07T16:28:23.861590Z",
     "shell.execute_reply": "2023-04-07T16:28:23.860634Z"
    },
    "papermill": {
     "duration": 0.019743,
     "end_time": "2023-04-07T16:28:23.863784",
     "exception": false,
     "start_time": "2023-04-07T16:28:23.844041",
     "status": "completed"
    },
    "tags": []
   },
   "outputs": [
    {
     "name": "stdout",
     "output_type": "stream",
     "text": [
      "['Orange___Haunglongbing_(Citrus_greening)' 'Soybean___healthy'\n",
      " 'Squash___Powdery_mildew' 'Blueberry___healthy' 'Raspberry___healthy']\n"
     ]
    }
   ],
   "source": [
    "# Save the directories to be deleted\n",
    "rows_to_drop = [17, 3, 33, 4, 5]\n",
    "dir_to_delete = pairs[pairs.index.isin(rows_to_drop)]['Directory']\n",
    "print(dir_to_delete.values)"
   ]
  },
  {
   "cell_type": "code",
   "execution_count": 6,
   "id": "ac1145f3",
   "metadata": {
    "execution": {
     "iopub.execute_input": "2023-04-07T16:28:23.876553Z",
     "iopub.status.busy": "2023-04-07T16:28:23.876275Z",
     "iopub.status.idle": "2023-04-07T16:28:23.882352Z",
     "shell.execute_reply": "2023-04-07T16:28:23.880967Z"
    },
    "papermill": {
     "duration": 0.014899,
     "end_time": "2023-04-07T16:28:23.884472",
     "exception": false,
     "start_time": "2023-04-07T16:28:23.869573",
     "status": "completed"
    },
    "tags": []
   },
   "outputs": [],
   "source": [
    "# Make a directory images\n",
    "os.mkdir('images')\n",
    "\n",
    "# Make subdirectories train, val, test\n",
    "os.mkdir(os.path.join('images', 'train'))\n",
    "os.mkdir(os.path.join('images', 'val'))\n",
    "os.mkdir(os.path.join('images', 'test'))"
   ]
  },
  {
   "cell_type": "code",
   "execution_count": 7,
   "id": "47fe04fb",
   "metadata": {
    "execution": {
     "iopub.execute_input": "2023-04-07T16:28:23.898070Z",
     "iopub.status.busy": "2023-04-07T16:28:23.897771Z",
     "iopub.status.idle": "2023-04-07T16:36:42.095836Z",
     "shell.execute_reply": "2023-04-07T16:36:42.092690Z"
    },
    "papermill": {
     "duration": 498.207736,
     "end_time": "2023-04-07T16:36:42.097996",
     "exception": false,
     "start_time": "2023-04-07T16:28:23.890260",
     "status": "completed"
    },
    "tags": []
   },
   "outputs": [
    {
     "name": "stderr",
     "output_type": "stream",
     "text": [
      "Copying files: 54305 files [08:18, 109.01 files/s]\n"
     ]
    }
   ],
   "source": [
    "# Split the data into folders\n",
    "splitfolders.ratio(DATA_DIR,output = \"images\",seed = 42,ratio = (0.80,0.10,0.10))"
   ]
  },
  {
   "cell_type": "code",
   "execution_count": 8,
   "id": "889887a7",
   "metadata": {
    "execution": {
     "iopub.execute_input": "2023-04-07T16:36:42.469579Z",
     "iopub.status.busy": "2023-04-07T16:36:42.468606Z",
     "iopub.status.idle": "2023-04-07T16:36:42.918123Z",
     "shell.execute_reply": "2023-04-07T16:36:42.917080Z"
    },
    "papermill": {
     "duration": 0.638525,
     "end_time": "2023-04-07T16:36:42.921240",
     "exception": false,
     "start_time": "2023-04-07T16:36:42.282715",
     "status": "completed"
    },
    "tags": []
   },
   "outputs": [],
   "source": [
    "# Remove the directories we saved before\n",
    "\n",
    "TRAIN_PATH = \"./images/train\"\n",
    "VAL_PATH = \"./images/val\"\n",
    "TEST_PATH  = \"./images/test\"\n",
    "PATHS = [TRAIN_PATH, VAL_PATH, TEST_PATH]\n",
    "\n",
    "for sub_directory in dir_to_delete.values:\n",
    "    for directory in PATHS:\n",
    "        d = directory + '/' + sub_directory\n",
    "        shutil.rmtree(d)"
   ]
  },
  {
   "cell_type": "code",
   "execution_count": 9,
   "id": "55fc6061",
   "metadata": {
    "execution": {
     "iopub.execute_input": "2023-04-07T16:36:43.305131Z",
     "iopub.status.busy": "2023-04-07T16:36:43.304072Z",
     "iopub.status.idle": "2023-04-07T16:36:45.278745Z",
     "shell.execute_reply": "2023-04-07T16:36:45.277475Z"
    },
    "papermill": {
     "duration": 2.172135,
     "end_time": "2023-04-07T16:36:45.281473",
     "exception": false,
     "start_time": "2023-04-07T16:36:43.109338",
     "status": "completed"
    },
    "tags": []
   },
   "outputs": [
    {
     "name": "stdout",
     "output_type": "stream",
     "text": [
      "Found 31987 images belonging to 33 classes.\n",
      "Found 3988 images belonging to 33 classes.\n",
      "Found 4025 images belonging to 33 classes.\n"
     ]
    }
   ],
   "source": [
    "# Generate batches of tensor image data with real-time data augmentation\n",
    "\n",
    "datagen = tf.keras.preprocessing.image.ImageDataGenerator(rescale=1/255)\n",
    "\n",
    "train_gen = datagen.flow_from_directory(directory = TRAIN_PATH, \n",
    "                                          class_mode=\"categorical\",\n",
    "                                          target_size = IMAGE_SHAPE,\n",
    "                                          batch_size = BATCH_SIZE,\n",
    "                                          color_mode='rgb',\n",
    "                                          seed = 1234,\n",
    "                                          shuffle = True)\n",
    "\n",
    "val_gen = datagen.flow_from_directory(directory = VAL_PATH, \n",
    "                                          class_mode=\"categorical\",\n",
    "                                          target_size = IMAGE_SHAPE,\n",
    "                                          batch_size = BATCH_SIZE,\n",
    "                                          color_mode='rgb',\n",
    "                                          seed = 1234,\n",
    "                                          shuffle = True)\n",
    "\n",
    "test_gen = datagen.flow_from_directory(directory = TEST_PATH, \n",
    "                                          class_mode=\"categorical\",\n",
    "                                          target_size = IMAGE_SHAPE,\n",
    "                                          batch_size = BATCH_SIZE,\n",
    "                                          color_mode='rgb',\n",
    "                                          shuffle = False)"
   ]
  },
  {
   "cell_type": "markdown",
   "id": "bd8edb2c",
   "metadata": {
    "papermill": {
     "duration": 0.233352,
     "end_time": "2023-04-07T16:36:45.699332",
     "exception": false,
     "start_time": "2023-04-07T16:36:45.465980",
     "status": "completed"
    },
    "tags": []
   },
   "source": [
    "3. Make a model"
   ]
  },
  {
   "cell_type": "code",
   "execution_count": 10,
   "id": "2274ee36",
   "metadata": {
    "execution": {
     "iopub.execute_input": "2023-04-07T16:36:46.066797Z",
     "iopub.status.busy": "2023-04-07T16:36:46.066431Z",
     "iopub.status.idle": "2023-04-07T16:36:46.075071Z",
     "shell.execute_reply": "2023-04-07T16:36:46.074020Z"
    },
    "papermill": {
     "duration": 0.196612,
     "end_time": "2023-04-07T16:36:46.077332",
     "exception": false,
     "start_time": "2023-04-07T16:36:45.880720",
     "status": "completed"
    },
    "tags": []
   },
   "outputs": [],
   "source": [
    "# The function for computing f1 score (macro) for multiclass classification in Keras\n",
    "def f1_macro(y_true, y_pred):    \n",
    "    def recall_m(y_true, y_pred):\n",
    "        TP = K.sum(K.round(K.clip(y_true * y_pred, 0, 1)))\n",
    "        Positives = K.sum(K.round(K.clip(y_true, 0, 1)))\n",
    "        \n",
    "        recall = TP / (Positives+K.epsilon())    \n",
    "        return recall \n",
    "    \n",
    "    \n",
    "    def precision_m(y_true, y_pred):\n",
    "        TP = K.sum(K.round(K.clip(y_true * y_pred, 0, 1)))\n",
    "        Pred_Positives = K.sum(K.round(K.clip(y_pred, 0, 1)))\n",
    "    \n",
    "        precision = TP / (Pred_Positives+K.epsilon())\n",
    "        return precision \n",
    "    \n",
    "    precision, recall = precision_m(y_true, y_pred), recall_m(y_true, y_pred)\n",
    "    \n",
    "    return 2*((precision*recall)/(precision+recall+K.epsilon()))"
   ]
  },
  {
   "cell_type": "code",
   "execution_count": 11,
   "id": "37b14d25",
   "metadata": {
    "execution": {
     "iopub.execute_input": "2023-04-07T16:36:46.441030Z",
     "iopub.status.busy": "2023-04-07T16:36:46.440636Z",
     "iopub.status.idle": "2023-04-07T16:36:46.446063Z",
     "shell.execute_reply": "2023-04-07T16:36:46.444998Z"
    },
    "papermill": {
     "duration": 0.18984,
     "end_time": "2023-04-07T16:36:46.448235",
     "exception": false,
     "start_time": "2023-04-07T16:36:46.258395",
     "status": "completed"
    },
    "tags": []
   },
   "outputs": [],
   "source": [
    "# Make a directory for models\n",
    "os.mkdir('models')\n",
    "\n",
    "# Make subdirectories train, val, test\n",
    "os.mkdir(os.path.join('models', 'first_version'))"
   ]
  },
  {
   "cell_type": "code",
   "execution_count": 12,
   "id": "87b0629b",
   "metadata": {
    "execution": {
     "iopub.execute_input": "2023-04-07T16:36:46.812225Z",
     "iopub.status.busy": "2023-04-07T16:36:46.811224Z",
     "iopub.status.idle": "2023-04-07T16:36:46.816654Z",
     "shell.execute_reply": "2023-04-07T16:36:46.815534Z"
    },
    "papermill": {
     "duration": 0.189694,
     "end_time": "2023-04-07T16:36:46.818739",
     "exception": false,
     "start_time": "2023-04-07T16:36:46.629045",
     "status": "completed"
    },
    "tags": []
   },
   "outputs": [],
   "source": [
    "# Here we create checkpoint for the first model\n",
    "CHECKPOINT_PATH_MODEL_FIRST = \"./models/first_version\"\n",
    "checkpoint_callback = tf.keras.callbacks.ModelCheckpoint(CHECKPOINT_PATH_MODEL_FIRST,\n",
    "                                      monitor='val_loss',\n",
    "                                      save_best_only=True)"
   ]
  },
  {
   "cell_type": "code",
   "execution_count": 13,
   "id": "0a29e5f6",
   "metadata": {
    "execution": {
     "iopub.execute_input": "2023-04-07T16:36:47.230619Z",
     "iopub.status.busy": "2023-04-07T16:36:47.230128Z",
     "iopub.status.idle": "2023-04-07T16:36:47.235279Z",
     "shell.execute_reply": "2023-04-07T16:36:47.234153Z"
    },
    "papermill": {
     "duration": 0.236305,
     "end_time": "2023-04-07T16:36:47.237639",
     "exception": false,
     "start_time": "2023-04-07T16:36:47.001334",
     "status": "completed"
    },
    "tags": []
   },
   "outputs": [],
   "source": [
    "# Set early stopping for 2 epochs\n",
    "early_stopping = EarlyStopping(monitor='val_loss', patience = 2, restore_best_weights=True)"
   ]
  },
  {
   "cell_type": "code",
   "execution_count": 14,
   "id": "3d1be6b2",
   "metadata": {
    "execution": {
     "iopub.execute_input": "2023-04-07T16:36:47.600196Z",
     "iopub.status.busy": "2023-04-07T16:36:47.599482Z",
     "iopub.status.idle": "2023-04-07T16:36:51.788545Z",
     "shell.execute_reply": "2023-04-07T16:36:51.787510Z"
    },
    "papermill": {
     "duration": 4.374209,
     "end_time": "2023-04-07T16:36:51.791065",
     "exception": false,
     "start_time": "2023-04-07T16:36:47.416856",
     "status": "completed"
    },
    "tags": []
   },
   "outputs": [
    {
     "name": "stdout",
     "output_type": "stream",
     "text": [
      "Downloading data from https://storage.googleapis.com/tensorflow/keras-applications/mobilenet_v2/mobilenet_v2_weights_tf_dim_ordering_tf_kernels_1.0_224_no_top.h5\n",
      "9406464/9406464 [==============================] - 0s 0us/step\n"
     ]
    }
   ],
   "source": [
    "# Here MobileNet pretrained model is downloaded; We do not include the last dense layers by setting include_top parameter to False \n",
    "first_base_model = MobileNetV2(include_top=False, weights='imagenet', input_shape=(224, 224, 3), pooling='max')"
   ]
  },
  {
   "cell_type": "code",
   "execution_count": 15,
   "id": "2a2469ec",
   "metadata": {
    "execution": {
     "iopub.execute_input": "2023-04-07T16:36:52.159229Z",
     "iopub.status.busy": "2023-04-07T16:36:52.158196Z",
     "iopub.status.idle": "2023-04-07T16:36:52.168215Z",
     "shell.execute_reply": "2023-04-07T16:36:52.167142Z"
    },
    "papermill": {
     "duration": 0.196304,
     "end_time": "2023-04-07T16:36:52.170465",
     "exception": false,
     "start_time": "2023-04-07T16:36:51.974161",
     "status": "completed"
    },
    "tags": []
   },
   "outputs": [],
   "source": [
    "# We fix the parameters of the pretrained model\n",
    "first_base_model.trainable = False"
   ]
  },
  {
   "cell_type": "code",
   "execution_count": 16,
   "id": "8c3d4001",
   "metadata": {
    "execution": {
     "iopub.execute_input": "2023-04-07T16:36:52.538066Z",
     "iopub.status.busy": "2023-04-07T16:36:52.537667Z",
     "iopub.status.idle": "2023-04-07T16:36:52.615614Z",
     "shell.execute_reply": "2023-04-07T16:36:52.614611Z"
    },
    "papermill": {
     "duration": 0.263596,
     "end_time": "2023-04-07T16:36:52.618097",
     "exception": false,
     "start_time": "2023-04-07T16:36:52.354501",
     "status": "completed"
    },
    "tags": []
   },
   "outputs": [],
   "source": [
    "# Here we add final layers to the first model\n",
    "inputs = first_base_model.input\n",
    "\n",
    "x = BatchNormalization()(first_base_model.output)\n",
    "x = Dense(1024, activation='relu')(x)\n",
    "x = Dropout(0.45, seed=1234)(x)\n",
    "x = Dense(512, activation='relu')(x)\n",
    "x = Dropout(0.45, seed=1235)(x)\n",
    "x = Flatten()(x)\n",
    "\n",
    "outputs = Dense(33, activation='softmax')(x)\n",
    "\n",
    "first_model = Model(inputs=inputs, outputs=outputs)"
   ]
  },
  {
   "cell_type": "code",
   "execution_count": 17,
   "id": "0987ebb8",
   "metadata": {
    "execution": {
     "iopub.execute_input": "2023-04-07T16:36:52.984076Z",
     "iopub.status.busy": "2023-04-07T16:36:52.983684Z",
     "iopub.status.idle": "2023-04-07T16:36:53.003072Z",
     "shell.execute_reply": "2023-04-07T16:36:53.002140Z"
    },
    "papermill": {
     "duration": 0.205535,
     "end_time": "2023-04-07T16:36:53.005323",
     "exception": false,
     "start_time": "2023-04-07T16:36:52.799788",
     "status": "completed"
    },
    "tags": []
   },
   "outputs": [],
   "source": [
    "# Here we check if everything is okay with the model\n",
    "first_model.compile(\n",
    "    optimizer=Adam(0.0001),\n",
    "    loss='categorical_crossentropy',\n",
    "    metrics=[f1_macro]\n",
    ")"
   ]
  },
  {
   "cell_type": "code",
   "execution_count": 18,
   "id": "0d1d35f1",
   "metadata": {
    "execution": {
     "iopub.execute_input": "2023-04-07T16:36:53.433914Z",
     "iopub.status.busy": "2023-04-07T16:36:53.433084Z",
     "iopub.status.idle": "2023-04-07T16:49:23.657482Z",
     "shell.execute_reply": "2023-04-07T16:49:23.656392Z"
    },
    "papermill": {
     "duration": 750.473344,
     "end_time": "2023-04-07T16:49:23.660420",
     "exception": false,
     "start_time": "2023-04-07T16:36:53.187076",
     "status": "completed"
    },
    "tags": []
   },
   "outputs": [
    {
     "name": "stdout",
     "output_type": "stream",
     "text": [
      "Epoch 1/6\n",
      "800/800 [==============================] - 114s 130ms/step - loss: 1.2699 - f1_macro: 0.6207 - val_loss: 0.3594 - val_f1_macro: 0.8845\n",
      "Epoch 2/6\n",
      "800/800 [==============================] - 108s 136ms/step - loss: 0.5043 - f1_macro: 0.8400 - val_loss: 0.2441 - val_f1_macro: 0.9181\n",
      "Epoch 3/6\n",
      "800/800 [==============================] - 102s 128ms/step - loss: 0.3644 - f1_macro: 0.8832 - val_loss: 0.2082 - val_f1_macro: 0.9304\n",
      "Epoch 4/6\n",
      "800/800 [==============================] - 100s 124ms/step - loss: 0.2864 - f1_macro: 0.9071 - val_loss: 0.1807 - val_f1_macro: 0.9415\n",
      "Epoch 5/6\n",
      "800/800 [==============================] - 102s 127ms/step - loss: 0.2411 - f1_macro: 0.9192 - val_loss: 0.1766 - val_f1_macro: 0.9413\n",
      "Epoch 6/6\n",
      "800/800 [==============================] - 103s 128ms/step - loss: 0.1979 - f1_macro: 0.9331 - val_loss: 0.1645 - val_f1_macro: 0.9441\n"
     ]
    }
   ],
   "source": [
    "# Here we fit the model\n",
    "history = first_model.fit(train_gen, epochs=EPOCHS, validation_data=val_gen, callbacks=[checkpoint_callback, early_stopping])"
   ]
  },
  {
   "cell_type": "code",
   "execution_count": 19,
   "id": "e27a428f",
   "metadata": {
    "execution": {
     "iopub.execute_input": "2023-04-07T16:49:24.585175Z",
     "iopub.status.busy": "2023-04-07T16:49:24.584174Z",
     "iopub.status.idle": "2023-04-07T16:49:34.410763Z",
     "shell.execute_reply": "2023-04-07T16:49:34.409817Z"
    },
    "papermill": {
     "duration": 10.26667,
     "end_time": "2023-04-07T16:49:34.412843",
     "exception": false,
     "start_time": "2023-04-07T16:49:24.146173",
     "status": "completed"
    },
    "tags": []
   },
   "outputs": [
    {
     "name": "stdout",
     "output_type": "stream",
     "text": [
      "101/101 [==============================] - 10s 95ms/step - loss: 0.1553 - f1_macro: 0.9476\n"
     ]
    }
   ],
   "source": [
    "results = first_model.evaluate(test_gen, verbose=1)"
   ]
  },
  {
   "cell_type": "code",
   "execution_count": 20,
   "id": "b324d341",
   "metadata": {
    "execution": {
     "iopub.execute_input": "2023-04-07T16:49:35.352141Z",
     "iopub.status.busy": "2023-04-07T16:49:35.351100Z",
     "iopub.status.idle": "2023-04-07T16:49:35.583309Z",
     "shell.execute_reply": "2023-04-07T16:49:35.582365Z"
    },
    "papermill": {
     "duration": 0.679351,
     "end_time": "2023-04-07T16:49:35.585618",
     "exception": false,
     "start_time": "2023-04-07T16:49:34.906267",
     "status": "completed"
    },
    "tags": []
   },
   "outputs": [
    {
     "data": {
      "image/png": "[encoded data removed]",
      "text/plain": [
       "<Figure size 640x480 with 1 Axes>"
      ]
     },
     "metadata": {},
     "output_type": "display_data"
    }
   ],
   "source": [
    "# Here we make the first plot for Loss\n",
    "Epochs = [i+1 for i in range(len(history.history['f1_macro']))]\n",
    "\n",
    "plt.plot(Epochs, history.history['loss'], label = 'training loss')\n",
    "plt.plot(Epochs, history.history['val_loss'], label = 'validation loss')\n",
    "plt.grid(True)\n",
    "plt.legend()\n",
    "plt.title('Training and Validation Loss')\n",
    "plt.xlabel('Epochs')\n",
    "plt.show()"
   ]
  },
  {
   "cell_type": "code",
   "execution_count": 21,
   "id": "2317c864",
   "metadata": {
    "execution": {
     "iopub.execute_input": "2023-04-07T16:49:36.532039Z",
     "iopub.status.busy": "2023-04-07T16:49:36.531641Z",
     "iopub.status.idle": "2023-04-07T16:49:36.750191Z",
     "shell.execute_reply": "2023-04-07T16:49:36.749122Z"
    },
    "papermill": {
     "duration": 0.713011,
     "end_time": "2023-04-07T16:49:36.752265",
     "exception": false,
     "start_time": "2023-04-07T16:49:36.039254",
     "status": "completed"
    },
    "tags": []
   },
   "outputs": [
    {
     "data": {
      "image/png": "[encoded data removed]",
      "text/plain": [
       "<Figure size 640x480 with 1 Axes>"
      ]
     },
     "metadata": {},
     "output_type": "display_data"
    }
   ],
   "source": [
    "# Here we make the first plot for F1-score\n",
    "Epochs = [i+1 for i in range(len(history.history['f1_macro']))]\n",
    "\n",
    "plt.plot(Epochs, history.history['f1_macro'], label = 'training f1 score')\n",
    "plt.plot(Epochs, history.history['val_f1_macro'], label = 'validation f1 score')\n",
    "plt.grid(True)\n",
    "plt.legend()\n",
    "plt.title('Training and Validation F1-score')\n",
    "plt.xlabel('Epochs')\n",
    "plt.show()"
   ]
  },
  {
   "cell_type": "code",
   "execution_count": null,
   "id": "197fc332",
   "metadata": {
    "papermill": {
     "duration": 0.440955,
     "end_time": "2023-04-07T16:49:37.655646",
     "exception": false,
     "start_time": "2023-04-07T16:49:37.214691",
     "status": "completed"
    },
    "tags": []
   },
   "outputs": [],
   "source": []
  }
 ],
 "metadata": {
  "kernelspec": {
   "display_name": "Python 3",
   "language": "python",
   "name": "python3"
  },
  "language_info": {
   "codemirror_mode": {
    "name": "ipython",
    "version": 3
   },
   "file_extension": ".py",
   "mimetype": "text/x-python",
   "name": "python",
   "nbconvert_exporter": "python",
   "pygments_lexer": "ipython3",
   "version": "3.7.12"
  },
  "papermill": {
   "default_parameters": {},
   "duration": 1317.805453,
   "end_time": "2023-04-07T16:49:41.478466",
   "environment_variables": {},
   "exception": null,
   "input_path": "__notebook__.ipynb",
   "output_path": "__notebook__.ipynb",
   "parameters": {},
   "start_time": "2023-04-07T16:27:43.673013",
   "version": "2.4.0"
  }
 },
 "nbformat": 4,
 "nbformat_minor": 5
}
